{
  "nbformat": 4,
  "nbformat_minor": 0,
  "metadata": {
    "colab": {
      "name": "Sentiment Youtube RNN-LSTM.ipynb",
      "provenance": [],
      "collapsed_sections": [],
      "include_colab_link": true
    },
    "kernelspec": {
      "name": "python3",
      "display_name": "Python 3"
    }
  },
  "cells": [
    {
      "cell_type": "markdown",
      "metadata": {
        "id": "view-in-github",
        "colab_type": "text"
      },
      "source": [
        "<a href=\"https://colab.research.google.com/github/yopiazani02/Deep-Learning/blob/master/Sentiment_Youtube_RNN_LSTM.ipynb\" target=\"_parent\"><img src=\"https://colab.research.google.com/assets/colab-badge.svg\" alt=\"Open In Colab\"/></a>"
      ]
    },
    {
      "cell_type": "markdown",
      "metadata": {
        "id": "CSUN61FSmpHT",
        "colab_type": "text"
      },
      "source": [
        "**DEDE** **RAHMAN** **ARIANTO**   [18917109]  \n",
        "**YOPI** **AZANI**                [19917019] "
      ]
    },
    {
      "cell_type": "markdown",
      "metadata": {
        "id": "EatnwS-O5XeO",
        "colab_type": "text"
      },
      "source": [
        "#Intro\n",
        "\n",
        "\n",
        "---\n",
        "\n",
        "\n",
        "\n",
        "![alt text](https://miro.medium.com/max/1458/1*SICYykT7ybua1gVJDNlajw.png)"
      ]
    },
    {
      "cell_type": "code",
      "metadata": {
        "id": "_9U7H92C3IPT",
        "colab_type": "code",
        "colab": {}
      },
      "source": [
        "%tensorflow_version 2.x"
      ],
      "execution_count": 0,
      "outputs": []
    },
    {
      "cell_type": "code",
      "metadata": {
        "id": "VFt9c8KI3Xr-",
        "colab_type": "code",
        "colab": {}
      },
      "source": [
        "import tensorflow as tf\n",
        "import numpy as np"
      ],
      "execution_count": 0,
      "outputs": []
    },
    {
      "cell_type": "code",
      "metadata": {
        "id": "bRGzaMWc3YwA",
        "colab_type": "code",
        "colab": {}
      },
      "source": [
        "np.random.seed(7)"
      ],
      "execution_count": 0,
      "outputs": []
    },
    {
      "cell_type": "code",
      "metadata": {
        "id": "Y3qOnSqsWXjB",
        "colab_type": "code",
        "outputId": "c8bbc266-c0ad-4ab5-cb02-617bd5579828",
        "colab": {
          "base_uri": "https://localhost:8080/",
          "height": 122
        }
      },
      "source": [
        "from google.colab import drive\n",
        "drive.mount('/content/drive')"
      ],
      "execution_count": 0,
      "outputs": [
        {
          "output_type": "stream",
          "text": [
            "Go to this URL in a browser: https://accounts.google.com/o/oauth2/auth?client_id=947318989803-6bn6qk8qdgf4n4g3pfee6491hc0brc4i.apps.googleusercontent.com&redirect_uri=urn%3aietf%3awg%3aoauth%3a2.0%3aoob&response_type=code&scope=email%20https%3a%2f%2fwww.googleapis.com%2fauth%2fdocs.test%20https%3a%2f%2fwww.googleapis.com%2fauth%2fdrive%20https%3a%2f%2fwww.googleapis.com%2fauth%2fdrive.photos.readonly%20https%3a%2f%2fwww.googleapis.com%2fauth%2fpeopleapi.readonly\n",
            "\n",
            "Enter your authorization code:\n",
            "··········\n",
            "Mounted at /content/drive\n"
          ],
          "name": "stdout"
        }
      ]
    },
    {
      "cell_type": "markdown",
      "metadata": {
        "id": "ZhAeiqbg5oil",
        "colab_type": "text"
      },
      "source": [
        "# Load Dataset"
      ]
    },
    {
      "cell_type": "markdown",
      "metadata": {
        "id": "egteD9yJ588l",
        "colab_type": "text"
      },
      "source": [
        "`top_words = 5000`\n",
        "\n",
        "mengatur jumlah maksimum kata yang akan digunakan sebanyak 5000 kata.\n",
        "batasan jumlah kemunculan satu kata pada document tidak lebih dari 5000.\n",
        "\n",
        "Ref = https://stackoverflow.com/questions/56880252/using-pre-trained-word-embeddings-in-a-keras-model\n",
        "\n",
        "\n",
        "---\n",
        "\n",
        "\n",
        "menentukan data training dan testing dari load data dengan parameter jumlah `top_words`\n",
        "\n",
        "biasanya pembagian data adalah 80:20 atau 75:25 dengan menambahkan parameter `train_size=0.75,test_size=0.25`\n",
        "\n",
        "secara default training data dan testing akan dibagi dua 25000 training dan testing.\n",
        "\n",
        "Ref = https://stackoverflow.com/questions/46495215/what-is-the-difference-between-x-train-and-x-test-in-keras"
      ]
    },
    {
      "cell_type": "code",
      "metadata": {
        "id": "s4pYr_J65r2R",
        "colab_type": "code",
        "colab": {
          "base_uri": "https://localhost:8080/",
          "height": 419
        },
        "outputId": "bbdfb266-52d5-4028-8c9e-167183f1c51d"
      },
      "source": [
        "import pandas as pd\n",
        "\n",
        "dataset = pd.read_csv('/content/drive/My Drive/clean_data.csv')\n",
        "dataset"
      ],
      "execution_count": 244,
      "outputs": [
        {
          "output_type": "execute_result",
          "data": {
            "text/html": [
              "<div>\n",
              "<style scoped>\n",
              "    .dataframe tbody tr th:only-of-type {\n",
              "        vertical-align: middle;\n",
              "    }\n",
              "\n",
              "    .dataframe tbody tr th {\n",
              "        vertical-align: top;\n",
              "    }\n",
              "\n",
              "    .dataframe thead th {\n",
              "        text-align: right;\n",
              "    }\n",
              "</style>\n",
              "<table border=\"1\" class=\"dataframe\">\n",
              "  <thead>\n",
              "    <tr style=\"text-align: right;\">\n",
              "      <th></th>\n",
              "      <th>Comment</th>\n",
              "      <th>label</th>\n",
              "    </tr>\n",
              "  </thead>\n",
              "  <tbody>\n",
              "    <tr>\n",
              "      <th>0</th>\n",
              "      <td>ayo ayo moga allah swt lindung amin</td>\n",
              "      <td>netral</td>\n",
              "    </tr>\n",
              "    <tr>\n",
              "      <th>1</th>\n",
              "      <td>harga sehat patuh anjur perintah sehat sakit</td>\n",
              "      <td>positif</td>\n",
              "    </tr>\n",
              "    <tr>\n",
              "      <th>2</th>\n",
              "      <td>update maret malaysia total kes</td>\n",
              "      <td>netral</td>\n",
              "    </tr>\n",
              "    <tr>\n",
              "      <th>3</th>\n",
              "      <td>moga yuri sehat ya lelah</td>\n",
              "      <td>positif</td>\n",
              "    </tr>\n",
              "    <tr>\n",
              "      <th>4</th>\n",
              "      <td>nurut warga daerah rawan sm himbauan perintah ...</td>\n",
              "      <td>netral</td>\n",
              "    </tr>\n",
              "    <tr>\n",
              "      <th>...</th>\n",
              "      <td>...</td>\n",
              "      <td>...</td>\n",
              "    </tr>\n",
              "    <tr>\n",
              "      <th>745</th>\n",
              "      <td>santuy badai lalau istri hamil moga aja ga</td>\n",
              "      <td>positif</td>\n",
              "    </tr>\n",
              "    <tr>\n",
              "      <th>746</th>\n",
              "      <td>jawa manado jakarta gubernur anies baswedan pe...</td>\n",
              "      <td>netral</td>\n",
              "    </tr>\n",
              "    <tr>\n",
              "      <th>747</th>\n",
              "      <td>detik indonesia dapet ranking persentase mati ...</td>\n",
              "      <td>positif</td>\n",
              "    </tr>\n",
              "    <tr>\n",
              "      <th>748</th>\n",
              "      <td>jokowi indonesia lockdown</td>\n",
              "      <td>netral</td>\n",
              "    </tr>\n",
              "    <tr>\n",
              "      <th>749</th>\n",
              "      <td>tinggal sembuh sih kacau banget borok rejim jo...</td>\n",
              "      <td>positif</td>\n",
              "    </tr>\n",
              "  </tbody>\n",
              "</table>\n",
              "<p>750 rows × 2 columns</p>\n",
              "</div>"
            ],
            "text/plain": [
              "                                               Comment    label\n",
              "0                  ayo ayo moga allah swt lindung amin   netral\n",
              "1         harga sehat patuh anjur perintah sehat sakit  positif\n",
              "2                      update maret malaysia total kes   netral\n",
              "3                             moga yuri sehat ya lelah  positif\n",
              "4    nurut warga daerah rawan sm himbauan perintah ...   netral\n",
              "..                                                 ...      ...\n",
              "745         santuy badai lalau istri hamil moga aja ga  positif\n",
              "746  jawa manado jakarta gubernur anies baswedan pe...   netral\n",
              "747  detik indonesia dapet ranking persentase mati ...  positif\n",
              "748                          jokowi indonesia lockdown   netral\n",
              "749  tinggal sembuh sih kacau banget borok rejim jo...  positif\n",
              "\n",
              "[750 rows x 2 columns]"
            ]
          },
          "metadata": {
            "tags": []
          },
          "execution_count": 244
        }
      ]
    },
    {
      "cell_type": "code",
      "metadata": {
        "id": "mgwwyQcXPQnv",
        "colab_type": "code",
        "colab": {}
      },
      "source": [
        "from keras.preprocessing.text import Tokenizer\n",
        "from tensorflow.keras.preprocessing import sequence\n",
        "from tensorflow.keras.preprocessing.text import Tokenizer\n",
        "max_fatures = 5000\n",
        "tokenizer = Tokenizer(num_words=max_fatures, split=' ')\n",
        "data['Comment'] = str(dataset['Comment'])\n",
        "data['label'] = str(dataset['label'])\n",
        "tokenizer.fit_on_texts(dataset['Comment'].values)\n",
        "X = tokenizer.texts_to_sequences(dataset['Comment'].values)\n",
        "X = sequence.pad_sequences(X)\n",
        "# Y = pd.get_dummies(data['label']).values\n",
        "tokenizer.fit_on_texts(dataset['label'].values)\n",
        "Y = tokenizer.texts_to_sequences(dataset['label'].values)\n",
        "Y = sequence.pad_sequences(Y)\n"
      ],
      "execution_count": 0,
      "outputs": []
    },
    {
      "cell_type": "code",
      "metadata": {
        "id": "I8cHjqAnY3QI",
        "colab_type": "code",
        "colab": {}
      },
      "source": [
        "from tensorflow.keras.models import Sequential\n",
        "from tensorflow.keras.layers import Embedding, SimpleRNN, LSTM, GRU, Dense,Activation\n",
        "import matplotlib.pyplot as plt"
      ],
      "execution_count": 0,
      "outputs": []
    },
    {
      "cell_type": "code",
      "metadata": {
        "id": "7BcFYmpbVcGU",
        "colab_type": "code",
        "colab": {
          "base_uri": "https://localhost:8080/",
          "height": 51
        },
        "outputId": "75453ca6-7438-4fcc-c00c-b43009220972"
      },
      "source": [
        "from sklearn.model_selection import train_test_split\n",
        "X_train, X_test, Y_train, Y_test = train_test_split(X,Y, test_size = 0.2, random_state = 42)\n",
        "print(X_train.shape,Y_train.shape)\n",
        "print(X_test.shape,Y_test.shape)"
      ],
      "execution_count": 253,
      "outputs": [
        {
          "output_type": "stream",
          "text": [
            "(600, 85) (600, 1)\n",
            "(150, 85) (150, 1)\n"
          ],
          "name": "stdout"
        }
      ]
    },
    {
      "cell_type": "code",
      "metadata": {
        "id": "2Jx6-XbPiH_s",
        "colab_type": "code",
        "colab": {
          "base_uri": "https://localhost:8080/",
          "height": 51
        },
        "outputId": "fe0a40e1-353e-4731-a4ad-b7c8f20cfca0"
      },
      "source": [
        "max_words = 50\n",
        "X_train = sequence.pad_sequences(X_train, maxlen=max_words)\n",
        "X_test = sequence.pad_sequences(X_test, maxlen=max_words)\n",
        "print('input_train shape:', X_train.shape)\n",
        "print('input_test shape:', X_test.shape)"
      ],
      "execution_count": 255,
      "outputs": [
        {
          "output_type": "stream",
          "text": [
            "input_train shape: (600, 50)\n",
            "input_test shape: (150, 50)\n"
          ],
          "name": "stdout"
        }
      ]
    },
    {
      "cell_type": "code",
      "metadata": {
        "id": "xOepBnLBY40t",
        "colab_type": "code",
        "outputId": "33a0d668-aed8-4a71-f933-ee7e6f271e67",
        "colab": {
          "base_uri": "https://localhost:8080/",
          "height": 224
        }
      },
      "source": [
        "model_RNN = Sequential()\n",
        "model_RNN.add(Embedding(10000, 32))\n",
        "model_RNN.add(SimpleRNN(32))\n",
        "model_RNN.add(Dense(1, activation='sigmoid'))\n",
        "model_RNN.compile(optimizer='adam', loss='binary_crossentropy', metrics=['acc'])\n",
        "history_RNN = model_RNN.fit(X_train, Y_train,\n",
        "                    epochs=5,\n",
        "                    batch_size=512,\n",
        "                    validation_split=0.2)"
      ],
      "execution_count": 264,
      "outputs": [
        {
          "output_type": "stream",
          "text": [
            "Train on 480 samples, validate on 120 samples\n",
            "Epoch 1/5\n",
            "480/480 [==============================] - 1s 2ms/sample - loss: 0.5446 - acc: 0.3187 - val_loss: 0.4023 - val_acc: 0.3333\n",
            "Epoch 2/5\n",
            "480/480 [==============================] - 0s 104us/sample - loss: 0.4041 - acc: 0.3729 - val_loss: 0.3294 - val_acc: 0.3333\n",
            "Epoch 3/5\n",
            "480/480 [==============================] - 0s 102us/sample - loss: 0.2976 - acc: 0.3917 - val_loss: 0.2568 - val_acc: 0.3333\n",
            "Epoch 4/5\n",
            "480/480 [==============================] - 0s 101us/sample - loss: 0.2012 - acc: 0.3938 - val_loss: 0.1812 - val_acc: 0.3417\n",
            "Epoch 5/5\n",
            "480/480 [==============================] - 0s 101us/sample - loss: 0.1085 - acc: 0.3938 - val_loss: 0.1036 - val_acc: 0.3417\n"
          ],
          "name": "stdout"
        }
      ]
    },
    {
      "cell_type": "code",
      "metadata": {
        "id": "QZmHYQErfdMP",
        "colab_type": "code",
        "colab": {
          "base_uri": "https://localhost:8080/",
          "height": 51
        },
        "outputId": "85470b57-537c-44a6-e5f7-235151979f00"
      },
      "source": [
        "loss_RNN, acc_RNN = model_RNN.evaluate(X_test, Y_test, verbose=0)\n",
        "print(\"Accuracy: %.2f\" % (acc_RNN*100), \"%\")\n",
        "print(\"Loss: %.2f\" % (loss_RNN*100), \"%\")"
      ],
      "execution_count": 265,
      "outputs": [
        {
          "output_type": "stream",
          "text": [
            "Accuracy: 35.33 %\n",
            "Loss: 12.63 %\n"
          ],
          "name": "stdout"
        }
      ]
    },
    {
      "cell_type": "markdown",
      "metadata": {
        "id": "qkNPfOlFlPaJ",
        "colab_type": "text"
      },
      "source": [
        "LSTM"
      ]
    },
    {
      "cell_type": "code",
      "metadata": {
        "id": "65IVEEDrlRQS",
        "colab_type": "code",
        "colab": {
          "base_uri": "https://localhost:8080/",
          "height": 224
        },
        "outputId": "67bdbfb7-4469-4f3a-fc1e-488abe6a438b"
      },
      "source": [
        "model_LSTM = Sequential()\n",
        "model_LSTM.add(Embedding(10000, 32))\n",
        "model_LSTM.add(LSTM(32))\n",
        "model_LSTM.add(Dense(1, activation='sigmoid'))\n",
        "model_LSTM.compile(optimizer='adam', loss='binary_crossentropy', metrics=['acc'])\n",
        "history_LSTM = model_LSTM.fit(X_train, Y_train,\n",
        "                    epochs=5,\n",
        "                    batch_size=512,\n",
        "                    validation_split=0.2)   "
      ],
      "execution_count": 266,
      "outputs": [
        {
          "output_type": "stream",
          "text": [
            "Train on 480 samples, validate on 120 samples\n",
            "Epoch 1/5\n",
            "480/480 [==============================] - 2s 5ms/sample - loss: 0.6986 - acc: 0.1312 - val_loss: 0.6780 - val_acc: 0.2833\n",
            "Epoch 2/5\n",
            "480/480 [==============================] - 0s 252us/sample - loss: 0.6774 - acc: 0.3375 - val_loss: 0.6567 - val_acc: 0.3417\n",
            "Epoch 3/5\n",
            "480/480 [==============================] - 0s 242us/sample - loss: 0.6556 - acc: 0.3917 - val_loss: 0.6343 - val_acc: 0.3417\n",
            "Epoch 4/5\n",
            "480/480 [==============================] - 0s 236us/sample - loss: 0.6329 - acc: 0.3938 - val_loss: 0.6105 - val_acc: 0.3417\n",
            "Epoch 5/5\n",
            "480/480 [==============================] - 0s 254us/sample - loss: 0.6087 - acc: 0.3938 - val_loss: 0.5848 - val_acc: 0.3417\n"
          ],
          "name": "stdout"
        }
      ]
    },
    {
      "cell_type": "code",
      "metadata": {
        "id": "jcCWgeRtlVYs",
        "colab_type": "code",
        "colab": {
          "base_uri": "https://localhost:8080/",
          "height": 51
        },
        "outputId": "53f07a11-9c88-4c29-9749-bc73a9791432"
      },
      "source": [
        "loss_LSTM, acc_LSTM = model_LSTM.evaluate(X_test, Y_test, verbose=0)\n",
        "print(\"Accuracy: %.2f\" % (acc_LSTM*100), \"%\")\n",
        "print(\"Loss: %.2f\" % (loss_LSTM*100), \"%\")"
      ],
      "execution_count": 268,
      "outputs": [
        {
          "output_type": "stream",
          "text": [
            "Accuracy: 35.33 %\n",
            "Loss: 58.48 %\n"
          ],
          "name": "stdout"
        }
      ]
    },
    {
      "cell_type": "code",
      "metadata": {
        "id": "a5NiyLielc5b",
        "colab_type": "code",
        "colab": {
          "base_uri": "https://localhost:8080/",
          "height": 224
        },
        "outputId": "a1c345f2-d619-4be4-f653-44480f98a941"
      },
      "source": [
        "model_GRU = Sequential()\n",
        "model_GRU.add(Embedding(10000,32))\n",
        "model_GRU.add(GRU(32))\n",
        "model_GRU.add(Dense(1, activation='sigmoid'))\n",
        "model_GRU.compile(optimizer='adam', loss='binary_crossentropy', metrics=['acc'])\n",
        "history_GRU = model_GRU.fit(X_train, Y_train,\n",
        "                    epochs=5,\n",
        "                    batch_size=512,\n",
        "                    validation_split=0.2)   "
      ],
      "execution_count": 270,
      "outputs": [
        {
          "output_type": "stream",
          "text": [
            "Train on 480 samples, validate on 120 samples\n",
            "Epoch 1/5\n",
            "480/480 [==============================] - 2s 4ms/sample - loss: 0.6979 - acc: 0.1458 - val_loss: 0.6811 - val_acc: 0.2333\n",
            "Epoch 2/5\n",
            "480/480 [==============================] - 0s 210us/sample - loss: 0.6757 - acc: 0.3083 - val_loss: 0.6604 - val_acc: 0.3250\n",
            "Epoch 3/5\n",
            "480/480 [==============================] - 0s 209us/sample - loss: 0.6537 - acc: 0.3812 - val_loss: 0.6395 - val_acc: 0.3417\n",
            "Epoch 4/5\n",
            "480/480 [==============================] - 0s 190us/sample - loss: 0.6314 - acc: 0.3938 - val_loss: 0.6181 - val_acc: 0.3417\n",
            "Epoch 5/5\n",
            "480/480 [==============================] - 0s 223us/sample - loss: 0.6084 - acc: 0.3938 - val_loss: 0.5959 - val_acc: 0.3417\n"
          ],
          "name": "stdout"
        }
      ]
    },
    {
      "cell_type": "code",
      "metadata": {
        "id": "CKsVRGVQlhTa",
        "colab_type": "code",
        "colab": {
          "base_uri": "https://localhost:8080/",
          "height": 51
        },
        "outputId": "a0ae955d-7d13-4dcc-e289-9603b7b90880"
      },
      "source": [
        "loss_GRU, acc_GRU = model_GRU.evaluate(X_test, Y_test, verbose=0)\n",
        "print(\"Accuracy: %.2f\" % (acc_GRU*100), \"%\")\n",
        "print(\"Loss: %.2f\" % (loss_GRU*100), \"%\")"
      ],
      "execution_count": 272,
      "outputs": [
        {
          "output_type": "stream",
          "text": [
            "Accuracy: 35.33 %\n",
            "Loss: 59.66 %\n"
          ],
          "name": "stdout"
        }
      ]
    },
    {
      "cell_type": "code",
      "metadata": {
        "id": "k6TzaBepllxU",
        "colab_type": "code",
        "colab": {}
      },
      "source": [
        "def plot_history(histories, key='loss'):\n",
        "    plt.figure(figsize=(10,8))\n",
        "\n",
        "    for name, history in histories:\n",
        "        val = plt.plot(history.epoch, history.history['val_'+key],\n",
        "                   '--', label=name.title()+' Val')\n",
        "        plt.plot(history.epoch, history.history[key], color=val[0].get_color(),\n",
        "             label=name.title()+' Train')\n",
        "\n",
        "        plt.xlabel('Epochs')\n",
        "        plt.ylabel(key.replace('_',' ').title())\n",
        "        plt.legend()\n",
        "        plt.xlim([0,max(history.epoch)])"
      ],
      "execution_count": 0,
      "outputs": []
    },
    {
      "cell_type": "code",
      "metadata": {
        "id": "0yQdlmhTlqD0",
        "colab_type": "code",
        "colab": {
          "base_uri": "https://localhost:8080/",
          "height": 1000
        },
        "outputId": "7c9fa3e3-fe6f-4bd6-9a83-115a85b13dee"
      },
      "source": [
        "plot_history([('SimpleRNN', history_RNN)])\n",
        "plot_history([('LSTM', history_LSTM)])\n",
        "plot_history([('GRU', history_GRU)])"
      ],
      "execution_count": 274,
      "outputs": [
        {
          "output_type": "display_data",
          "data": {
            "image/png": "[encoded data removed]",
            "text/plain": [
              "<Figure size 720x576 with 1 Axes>"
            ]
          },
          "metadata": {
            "tags": []
          }
        },
        {
          "output_type": "display_data",
          "data": {
            "image/png": "[encoded data removed]",
            "text/plain": [
              "<Figure size 720x576 with 1 Axes>"
            ]
          },
          "metadata": {
            "tags": []
          }
        },
        {
          "output_type": "display_data",
          "data": {
            "image/png": "[encoded data removed]",
            "text/plain": [
              "<Figure size 720x576 with 1 Axes>"
            ]
          },
          "metadata": {
            "tags": []
          }
        }
      ]
    },
    {
      "cell_type": "markdown",
      "metadata": {
        "id": "ZvrRs2zTmPiv",
        "colab_type": "text"
      },
      "source": [
        "masih mendapatkan akurasi yang kecil, perlu waktu untuk explore lebih jauh lagi"
      ]
    }
  ]
}